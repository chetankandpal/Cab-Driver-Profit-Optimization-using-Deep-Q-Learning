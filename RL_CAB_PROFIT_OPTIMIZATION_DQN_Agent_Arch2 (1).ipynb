{
  "cells": [
    {
      "cell_type": "markdown",
      "metadata": {
        "id": "8VQw4TZ_Zu8h"
      },
      "source": [
        "### Cab-Driver Agent"
      ]
    },
    {
      "cell_type": "code",
      "execution_count": null,
      "metadata": {
        "colab": {
          "base_uri": "https://localhost:8080/"
        },
        "id": "uw2fJG1VV_g6",
        "outputId": "0208633c-6764-46e4-fc84-da7cd93c22ca"
      },
      "outputs": [
        {
          "output_type": "stream",
          "name": "stdout",
          "text": [
            "Mounted at /content/drive\n"
          ]
        }
      ],
      "source": [
        "from google.colab import drive\n",
        "drive.mount('/content/drive')\n",
        "\n"
      ]
    },
    {
      "cell_type": "code",
      "execution_count": null,
      "metadata": {
        "id": "g2Ykk4gJUFd1"
      },
      "outputs": [],
      "source": [
        ""
      ]
    },
    {
      "cell_type": "code",
      "execution_count": null,
      "metadata": {
        "id": "LkJyf232Xp-Y"
      },
      "outputs": [],
      "source": [
        "import sys\n",
        "import os\n",
        "\n",
        "py_file_location = \"/content/drive/My Drive\"\n",
        "sys.path.append(os.path.abspath(py_file_location))"
      ]
    },
    {
      "cell_type": "code",
      "execution_count": null,
      "metadata": {
        "id": "q9hBMW5VZu8m"
      },
      "outputs": [],
      "source": [
        "# Importing libraries\n",
        "import numpy as np\n",
        "import random\n",
        "import math\n",
        "from collections import deque\n",
        "import collections\n",
        "import pickle\n",
        "import time\n",
        "\n",
        "# for building DQN model\n",
        "\n",
        "from keras import layers\n",
        "from keras import Sequential\n",
        "from keras.layers import Dense, Activation, Flatten\n",
        "from tensorflow.keras.optimizers import Adam\n",
        "\n",
        "# for plotting graphs\n",
        "import matplotlib.pyplot as plt\n",
        "\n",
        "# Import the environment\n",
        "from Env import CabDriver\n"
      ]
    },
    {
      "cell_type": "code",
      "execution_count": null,
      "metadata": {
        "id": "CrTpn95qhZVc"
      },
      "outputs": [],
      "source": [
        " "
      ]
    },
    {
      "cell_type": "markdown",
      "metadata": {
        "id": "w_J0c14GZu8o"
      },
      "source": [
        "#### Defining Time Matrix"
      ]
    },
    {
      "cell_type": "code",
      "execution_count": null,
      "metadata": {
        "id": "pWmuASROZu8p"
      },
      "outputs": [],
      "source": [
        "# Loading the time matrix provided\n",
        "Time_matrix = np.load(\"/content/drive/MyDrive/TM.npy\")"
      ]
    },
    {
      "cell_type": "code",
      "execution_count": null,
      "metadata": {
        "id": "6yu6W7yJYl5L"
      },
      "outputs": [],
      "source": [
        ""
      ]
    },
    {
      "cell_type": "code",
      "execution_count": null,
      "metadata": {
        "colab": {
          "base_uri": "https://localhost:8080/"
        },
        "id": "zOFc3YwI2vIK",
        "outputId": "8f6c9a3f-da68-415b-b7f1-564752ae56aa"
      },
      "outputs": [
        {
          "output_type": "stream",
          "name": "stdout",
          "text": [
            "Minimimum time taken: 0.0\n",
            "Maximum time taken: 11.0\n",
            "Average time taken: 3.0542857142857143\n"
          ]
        }
      ],
      "source": [
        "print(\"Minimimum time taken:\", Time_matrix.min())\n",
        "print(\"Maximum time taken:\", Time_matrix.max())\n",
        "print(\"Average time taken:\", Time_matrix.mean())"
      ]
    },
    {
      "cell_type": "markdown",
      "metadata": {
        "id": "Dr1XYSJEZu8q"
      },
      "source": [
        "#### Tracking the state-action pairs for checking convergence\n"
      ]
    },
    {
      "cell_type": "markdown",
      "metadata": {
        "id": "MILOUlgTZ6oo"
      },
      "source": [
        ""
      ]
    },
    {
      "cell_type": "code",
      "execution_count": null,
      "metadata": {
        "id": "NFqg7ETUZu8q"
      },
      "outputs": [],
      "source": [
        ""
      ]
    },
    {
      "cell_type": "code",
      "execution_count": null,
      "metadata": {
        "id": "HbCPdaJQZu8q"
      },
      "outputs": [],
      "source": [
        ""
      ]
    },
    {
      "cell_type": "code",
      "execution_count": null,
      "metadata": {
        "id": "TspparjZZu8r"
      },
      "outputs": [],
      "source": [
        ""
      ]
    },
    {
      "cell_type": "code",
      "execution_count": null,
      "metadata": {
        "id": "qgzTDMwNZu8r"
      },
      "outputs": [],
      "source": [
        "#Defining a function to save the Q-dictionary as a pickle file\n",
        "def save_obj(obj, name ):\n",
        "    with open(name + '.pkl', 'wb') as f:\n",
        "        pickle.dump(obj, f, pickle.HIGHEST_PROTOCOL)"
      ]
    },
    {
      "cell_type": "markdown",
      "metadata": {
        "id": "7wO8gcRdZu8s"
      },
      "source": [
        "### Agent Class\n",
        "\n",
        "If you are using this framework, you need to fill the following to complete the following code block:\n",
        "1. State and Action Size\n",
        "2. Hyperparameters\n",
        "3. Create a neural-network model in function 'build_model()'\n",
        "4. Define epsilon-greedy strategy in function 'get_action()'\n",
        "5. Complete the function 'append_sample()'. This function appends the recent experience tuple <state, action, reward, new-state> to the memory\n",
        "6. Complete the 'train_model()' function with following logic:\n",
        "   - If the memory size is greater than mini-batch size, you randomly sample experiences from memory as per the mini-batch size and do the following:\n",
        "      - Initialise your input and output batch for training the model\n",
        "      - Calculate the target Q value for each sample: reward + gamma*max(Q(s'a,))\n",
        "      - Get Q(s', a) values from the last trained model\n",
        "      - Update the input batch as your encoded state-action and output batch as your Q-values\n",
        "      - Then fit your DQN model using the updated input and output batch."
      ]
    },
    {
      "cell_type": "code",
      "execution_count": null,
      "metadata": {
        "id": "yRN0wmaAZu8t"
      },
      "outputs": [],
      "source": [
        "#Defining the agent class\n",
        "class DQNAgent:\n",
        "    def __init__(self, state_size, action_size):\n",
        "        # Define size of state and action\n",
        "        self.state_size = state_size\n",
        "        self.action_size = action_size\n",
        "\n",
        "        # Write here: Specify you hyper parameters for the DQN\n",
        "        self.discount_factor = 0.95\n",
        "        self.learning_rate =  0.01      \n",
        "        self.epsilon_max = 1\n",
        "        self.epsilon = 1\n",
        "        self.epsilon_decay = 0.0005 \n",
        "        self.epsilon_min = 0.00001\n",
        "        \n",
        "        self.batch_size = 32        \n",
        "        # create replay memory using deque\n",
        "        self.memory = deque(maxlen=2000)\n",
        "\n",
        "        # create main model and target model\n",
        "        self.model = self.build_model()\n",
        "        \n",
        "        # Initialize the value of the states tracked\n",
        "        self.states_tracked = []\n",
        "        \n",
        "        # We are going to track state [0,0,0] and the action space (0,1) (0,2) (0,3) (0,4).\n",
        "        self.track_state = np.array(env.state_encod_arch2([0,0,0])).reshape(1, 36)\n",
        "\n",
        "    # approximate Q function using Neural Network\n",
        "    def build_model(self):\n",
        "        model = Sequential()\n",
        "        \n",
        "        # Write your code here: Add layers to your neural nets\n",
        "        model.add(Dense(32, input_dim=self.state_size, activation='relu', kernel_initializer='he_uniform'))\n",
        "        model.add(Dense(32, activation='relu', kernel_initializer='he_uniform'))\n",
        "        model.add(Dense(self.action_size, activation='relu', kernel_initializer='he_uniform'))\n",
        "        \n",
        "        model.compile(loss='mse',optimizer=Adam(lr=self.learning_rate))\n",
        "        model.summary\n",
        "        return model\n",
        "\n",
        "    def get_action(self, state, time):\n",
        "        # Write your code here:\n",
        "        # Decay in ε after we generate each sample from the environment       \n",
        "        self.epsilon = self.epsilon_min + (self.epsilon_max - self.epsilon_min) * np.exp(-self.epsilon_decay*time)\n",
        "\n",
        "        # Get the requests for the current cab driver state\n",
        "        possible_actions_index,actions = env.requests(state)\n",
        "\n",
        "        # get action from model using epsilon-greedy policy\n",
        "        if np.random.rand() <= self.epsilon:\n",
        "            # explore: choose a random action from all possible actions\n",
        "            # in case of cab this will randomly choose an action between 0 and 1\n",
        "            return random.choice(possible_actions_index)\n",
        "        # if generated random number is greater than ε, choose the action which has max Q-value\n",
        "        else:\n",
        "            state_encoded = env.state_encod_arch2(state)\n",
        "            state_value = np.array(state_encoded).reshape(1, self.state_size)\n",
        "            q_value = self.model.predict(state_value)\n",
        "\n",
        "            q_value = [q_value[0][i] for i in possible_actions_index]\n",
        "\n",
        "            return possible_actions_index[np.argmax(q_value)]\n",
        "\n",
        "\n",
        "    def append_sample(self, state, action, reward, next_state, terminal_state):\n",
        "        # Write your code here:\n",
        "        # save sample <s,a,r,s'> to the replay memory\n",
        "        self.memory.append((state, action, reward, next_state, terminal_state))\n",
        "   \n",
        "    \n",
        "    # pick samples randomly from replay memory (with batch_size) and train the network\n",
        "    def train_model(self):\n",
        "        \n",
        "        if len(self.memory) > self.batch_size:\n",
        "            # Sample batch from the memory\n",
        "            mini_batch = random.sample(self.memory, self.batch_size)\n",
        "            \n",
        "            #Initialize input of output\n",
        "            update_output = np.zeros((self.batch_size, self.state_size))\n",
        "            update_input = np.zeros((self.batch_size, self.state_size))\n",
        "            \n",
        "            actions, rewards, terminal_states = [], [], []\n",
        "            \n",
        "            for i in range(self.batch_size):\n",
        "                state, action, reward, next_state, terminal_state = mini_batch[i]\n",
        "                update_input[i] = env.state_encod_arch2(state)\n",
        "                update_output[i] = env.state_encod_arch2(next_state)\n",
        "                actions.append(action)\n",
        "                rewards.append(reward)\n",
        "                terminal_states.append(terminal_state)\n",
        "                \n",
        "                \n",
        "            # Write your code from here\n",
        "            # 1. Predict the target from earlier model Q(s,a)\n",
        "            target = self.model.predict(update_input)\n",
        "              \n",
        "            # 2. Get the target for the Q-network Q(s',a)\n",
        "            target_qval = self.model.predict(update_output)\n",
        "                \n",
        "            #3. Update your 'update_output' and 'update_input' batch r + gamma * Q(s',a)\n",
        "            # update the target values\n",
        "            for i in range(self.batch_size):\n",
        "                if terminal_states[i]:\n",
        "                    target[i][actions[i]] = rewards[i]\n",
        "                else: # non-terminal state \n",
        "                    target[i][actions[i]] = rewards[i] + self.discount_factor * np.max(target_qval[i])\n",
        "                \n",
        "            # 4. Fit your model and track the loss values\n",
        "            self.model.fit(update_input, target, batch_size=self.batch_size, epochs=1, verbose=0)\n",
        "    \n",
        "    def save_tracking_states(self):\n",
        "        # Use the model to predict the q_value of the state we are tacking.\n",
        "        q_value = self.model.predict(self.track_state)\n",
        "        \n",
        "        # Grab the q_value of the action index that we are tracking.\n",
        "        self.states_tracked.append(q_value[0][2])\n",
        "\n",
        "    def save(self, name):\n",
        "        self.model.save(name)"
      ]
    },
    {
      "cell_type": "code",
      "execution_count": null,
      "metadata": {
        "colab": {
          "base_uri": "https://localhost:8080/"
        },
        "id": "u0-ApmAvZu8u",
        "outputId": "30c58cd4-fa83-41f2-ca7b-df0fc4e6c3d9"
      },
      "outputs": [
        {
          "output_type": "stream",
          "name": "stderr",
          "text": [
            "/usr/local/lib/python3.7/dist-packages/keras/optimizer_v2/adam.py:105: UserWarning: The `lr` argument is deprecated, use `learning_rate` instead.\n",
            "  super(Adam, self).__init__(name, **kwargs)\n"
          ]
        }
      ],
      "source": [
        "Episodes = 1000\n",
        "episode_time=30*24 #30 days before which car has to be recharged\n",
        "rewards_per_episode, episodes = [], []\n",
        "m = 5\n",
        "t = 24\n",
        "d = 7\n",
        "\n",
        "# Invoke Env class\n",
        "env = CabDriver()\n",
        "action_space, state_space, state = env.reset()\n",
        "\n",
        "# Set up state and action sizes.\n",
        "state_size = m+t+d\n",
        "action_size = len(action_space)\n",
        "\n",
        "#initialize the DQN agent\n",
        "agent = DQNAgent(action_size=action_size, state_size=state_size)    "
      ]
    },
    {
      "cell_type": "markdown",
      "metadata": {
        "id": "dsgXwMGJZu8v"
      },
      "source": [
        "### DQN block"
      ]
    },
    {
      "cell_type": "code",
      "execution_count": null,
      "metadata": {
        "colab": {
          "base_uri": "https://localhost:8080/"
        },
        "id": "UcZKvMoiZu8v",
        "outputId": "33f1e026-ae46-4886-a740-1ee69490f5d5"
      },
      "outputs": [
        {
          "output_type": "stream",
          "name": "stdout",
          "text": [
            "episode 9, reward 24.0, memory_length 1374, epsilon 0.9955101547284723\n",
            "episode 19, reward -317.0, memory_length 2000, epsilon 0.990545076993076\n",
            "episode 29, reward -139.0, memory_length 2000, epsilon 0.985604762686195\n",
            "episode 39, reward -67.0, memory_length 2000, epsilon 0.9806890882997144\n",
            "episode 49, reward -261.0, memory_length 2000, epsilon 0.9757979309415181\n",
            "episode 59, reward 98.0, memory_length 2000, epsilon 0.9709311683324178\n",
            "episode 69, reward 185.0, memory_length 2000, epsilon 0.9660886788030947\n",
            "episode 79, reward -90.0, memory_length 2000, epsilon 0.9612703412910584\n",
            "episode 89, reward 149.0, memory_length 2000, epsilon 0.9564760353376198\n",
            "episode 99, reward -50.0, memory_length 2000, epsilon 0.9517056410848808\n",
            "Saving Model 99\n",
            "INFO:tensorflow:Assets written to: ram://0ccfbbe1-b6ae-48ef-885c-20a1f2180a9d/assets\n",
            "episode 109, reward -239.0, memory_length 2000, epsilon 0.9469590392727365\n",
            "episode 119, reward 69.0, memory_length 2000, epsilon 0.9422361112358941\n",
            "episode 129, reward -358.0, memory_length 2000, epsilon 0.9375367389009072\n",
            "episode 139, reward 21.0, memory_length 2000, epsilon 0.9328608047832221\n",
            "episode 149, reward 8.0, memory_length 2000, epsilon 0.9282081919842428\n",
            "episode 159, reward -89.0, memory_length 2000, epsilon 0.9235787841884068\n",
            "episode 169, reward -143.0, memory_length 2000, epsilon 0.9189724656602779\n",
            "episode 179, reward -212.0, memory_length 2000, epsilon 0.9143891212416534\n",
            "episode 189, reward -76.0, memory_length 2000, epsilon 0.9098286363486837\n",
            "episode 199, reward 146.0, memory_length 2000, epsilon 0.9052908969690093\n",
            "Saving Model 199\n",
            "INFO:tensorflow:Assets written to: ram://a1acf79b-96d8-47cb-9c13-f5bbfa236250/assets\n",
            "episode 209, reward -242.0, memory_length 2000, epsilon 0.900775789658909\n",
            "episode 219, reward -157.0, memory_length 2000, epsilon 0.8962832015404654\n",
            "episode 229, reward -229.0, memory_length 2000, epsilon 0.891813020298741\n",
            "episode 239, reward -35.0, memory_length 2000, epsilon 0.8873651341789722\n",
            "episode 249, reward 77.0, memory_length 2000, epsilon 0.8829394319837746\n",
            "episode 259, reward 74.0, memory_length 2000, epsilon 0.8785358030703623\n",
            "episode 269, reward 324.0, memory_length 2000, epsilon 0.8741541373477834\n",
            "episode 279, reward -30.0, memory_length 2000, epsilon 0.8697943252741666\n",
            "episode 289, reward -102.0, memory_length 2000, epsilon 0.8654562578539828\n",
            "episode 299, reward 134.0, memory_length 2000, epsilon 0.8611398266353208\n",
            "Saving Model 299\n",
            "INFO:tensorflow:Assets written to: ram://f4033893-bd70-4364-950f-2b5983237586/assets\n",
            "episode 309, reward -55.0, memory_length 2000, epsilon 0.8568449237071754\n",
            "episode 319, reward -166.0, memory_length 2000, epsilon 0.8525714416967494\n",
            "episode 329, reward -117.0, memory_length 2000, epsilon 0.84831927376677\n",
            "episode 339, reward -8.0, memory_length 2000, epsilon 0.8440883136128177\n",
            "episode 349, reward 193.0, memory_length 2000, epsilon 0.8398784554606681\n",
            "episode 359, reward -238.0, memory_length 2000, epsilon 0.8356895940636483\n",
            "episode 369, reward 32.0, memory_length 2000, epsilon 0.8315216247000051\n",
            "episode 379, reward 46.0, memory_length 2000, epsilon 0.8273744431702872\n",
            "episode 389, reward -60.0, memory_length 2000, epsilon 0.8232479457947406\n",
            "episode 399, reward -76.0, memory_length 2000, epsilon 0.8191420294107159\n",
            "Saving Model 399\n",
            "INFO:tensorflow:Assets written to: ram://eafe3e90-b2e7-47e3-9af0-a1096494827b/assets\n",
            "episode 409, reward -22.0, memory_length 2000, epsilon 0.8150565913700896\n",
            "episode 419, reward -282.0, memory_length 2000, epsilon 0.8109915295366978\n",
            "episode 429, reward 12.0, memory_length 2000, epsilon 0.8069467422837833\n",
            "episode 439, reward 102.0, memory_length 2000, epsilon 0.8029221284914537\n",
            "episode 449, reward 115.0, memory_length 2000, epsilon 0.7989175875441549\n",
            "episode 459, reward 599.0, memory_length 2000, epsilon 0.7949330193281544\n",
            "episode 469, reward 83.0, memory_length 2000, epsilon 0.7909683242290395\n",
            "episode 479, reward 87.0, memory_length 2000, epsilon 0.787023403129226\n",
            "episode 489, reward 59.0, memory_length 2000, epsilon 0.783098157405481\n",
            "episode 499, reward 124.0, memory_length 2000, epsilon 0.7791924889264571\n",
            "Saving Model 499\n",
            "INFO:tensorflow:Assets written to: ram://ec26dcde-7438-40f0-a8cc-9eb83466ac3e/assets\n",
            "episode 509, reward 71.0, memory_length 2000, epsilon 0.7753063000502388\n",
            "episode 519, reward -321.0, memory_length 2000, epsilon 0.7714394936219019\n",
            "episode 529, reward 24.0, memory_length 2000, epsilon 0.7675919729710842\n",
            "episode 539, reward -102.0, memory_length 2000, epsilon 0.7637636419095689\n",
            "episode 549, reward 184.0, memory_length 2000, epsilon 0.7599544047288802\n",
            "episode 559, reward -23.0, memory_length 2000, epsilon 0.7561641661978903\n",
            "episode 569, reward 298.0, memory_length 2000, epsilon 0.7523928315604383\n",
            "episode 579, reward 154.0, memory_length 2000, epsilon 0.7486403065329622\n",
            "episode 589, reward 68.0, memory_length 2000, epsilon 0.7449064973021403\n",
            "episode 599, reward 88.0, memory_length 2000, epsilon 0.7411913105225478\n",
            "Saving Model 599\n",
            "INFO:tensorflow:Assets written to: ram://245d2f09-6ae8-467d-889c-4b3faf5d12a8/assets\n",
            "episode 609, reward 153.0, memory_length 2000, epsilon 0.7374946533143216\n",
            "episode 619, reward 120.0, memory_length 2000, epsilon 0.733816433260839\n",
            "episode 629, reward 331.0, memory_length 2000, epsilon 0.730156558406407\n",
            "episode 639, reward 82.0, memory_length 2000, epsilon 0.7265149372539635\n",
            "episode 649, reward -34.0, memory_length 2000, epsilon 0.7228914787627905\n",
            "episode 659, reward 356.0, memory_length 2000, epsilon 0.7192860923462364\n",
            "episode 669, reward 392.0, memory_length 2000, epsilon 0.7156986878694535\n",
            "episode 679, reward 338.0, memory_length 2000, epsilon 0.7121291756471426\n",
            "episode 689, reward -157.0, memory_length 2000, epsilon 0.7085774664413126\n",
            "episode 699, reward 45.0, memory_length 2000, epsilon 0.7050434714590481\n",
            "Saving Model 699\n",
            "INFO:tensorflow:Assets written to: ram://a90b1932-6a93-477b-9544-76af1eb215da/assets\n",
            "episode 709, reward -64.0, memory_length 2000, epsilon 0.7015271023502908\n",
            "episode 719, reward 277.0, memory_length 2000, epsilon 0.6980282712056295\n",
            "episode 729, reward 349.0, memory_length 2000, epsilon 0.6945468905541035\n",
            "episode 739, reward 321.0, memory_length 2000, epsilon 0.6910828733610151\n",
            "episode 749, reward 468.0, memory_length 2000, epsilon 0.6876361330257542\n",
            "episode 759, reward 211.0, memory_length 2000, epsilon 0.6842065833796329\n",
            "episode 769, reward -43.0, memory_length 2000, epsilon 0.6807941386837313\n",
            "episode 779, reward -203.0, memory_length 2000, epsilon 0.6773987136267543\n",
            "episode 789, reward 1.0, memory_length 2000, epsilon 0.6740202233228988\n",
            "episode 799, reward 47.0, memory_length 2000, epsilon 0.6706585833097309\n",
            "Saving Model 799\n",
            "INFO:tensorflow:Assets written to: ram://741daa09-e5d5-4279-a5ea-e04b36d90566/assets\n",
            "episode 809, reward 193.0, memory_length 2000, epsilon 0.6673137095460755\n",
            "episode 819, reward 38.0, memory_length 2000, epsilon 0.6639855184099142\n",
            "episode 829, reward 164.0, memory_length 2000, epsilon 0.6606739266962952\n",
            "episode 839, reward 53.0, memory_length 2000, epsilon 0.6573788516152533\n",
            "episode 849, reward -44.0, memory_length 2000, epsilon 0.6541002107897397\n",
            "episode 859, reward 375.0, memory_length 2000, epsilon 0.6508379222535631\n",
            "episode 869, reward 41.0, memory_length 2000, epsilon 0.64759190444934\n",
            "episode 879, reward 275.0, memory_length 2000, epsilon 0.6443620762264566\n",
            "episode 889, reward 264.0, memory_length 2000, epsilon 0.6411483568390387\n",
            "episode 899, reward 455.0, memory_length 2000, epsilon 0.6379506659439346\n",
            "Saving Model 899\n",
            "INFO:tensorflow:Assets written to: ram://0c240c0a-28a3-417b-853f-b45bad4bfcc4/assets\n",
            "episode 909, reward 316.0, memory_length 2000, epsilon 0.6347689235987051\n",
            "episode 919, reward 350.0, memory_length 2000, epsilon 0.6316030502596259\n",
            "episode 929, reward 722.0, memory_length 2000, epsilon 0.6284529667796988\n",
            "episode 939, reward 203.0, memory_length 2000, epsilon 0.6253185944066726\n",
            "episode 949, reward -156.0, memory_length 2000, epsilon 0.6221998547810748\n",
            "episode 959, reward 466.0, memory_length 2000, epsilon 0.6190966699342522\n",
            "episode 969, reward 620.0, memory_length 2000, epsilon 0.6160089622864221\n",
            "episode 979, reward 537.0, memory_length 2000, epsilon 0.6129366546447325\n",
            "episode 989, reward 200.0, memory_length 2000, epsilon 0.6098796702013323\n",
            "episode 999, reward 171.0, memory_length 2000, epsilon 0.6068379325314511\n",
            "Saving Model 999\n",
            "INFO:tensorflow:Assets written to: ram://0477f635-0d4b-4e5f-b044-7d90816ce53f/assets\n",
            "Total time :  322.7144408861796\n"
          ]
        }
      ],
      "source": [
        "start_time = time.time()\n",
        "\n",
        "for episode in range(Episodes):\n",
        "\n",
        "    env = CabDriver()\n",
        " \n",
        "    action_size ,state_size,state =  env.reset()\n",
        "    \n",
        "    terminal_state = False\n",
        "    score = 0\n",
        "    total_time = 0    \n",
        "    \n",
        "    while not terminal_state:\n",
        "        \n",
        "\n",
        "        action = agent.get_action(state, episode)\n",
        "        \n",
        "\n",
        "        reward,next_state, step_time = env.step(state, env.action_space[action], Time_matrix)\n",
        "        total_time += step_time\n",
        "        \n",
        "        if(total_time >= episode_time):\n",
        "       \n",
        "            terminal_state = True\n",
        "        else:\n",
        "          \n",
        "            agent.append_sample(state, action, reward, next_state, terminal_state)\n",
        "        \n",
        "            agent.train_model()\n",
        "        \n",
        "     \n",
        "            score += reward\n",
        "            state = next_state\n",
        "    \n",
        "    rewards_per_episode.append(score)\n",
        "    episodes.append(episode)\n",
        "    \n",
        "    if ((episode + 1) % 10 == 0):\n",
        "        print(\"episode {0}, reward {1}, memory_length {2}, epsilon {3}\".format(episode,\n",
        "                                                                         score,\n",
        "                                                                         len(agent.memory),\n",
        "                                                                         agent.epsilon))\n",
        "       \n",
        "        agent.save_tracking_states()\n",
        "        \n",
        "    if ((episode + 1) % 100 == 0):\n",
        "\n",
        "        print(\"Saving Model {}\".format(episode))\n",
        "        agent.save(name=\"CarPol_model.h5\")\n",
        "        pickle.dump(agent,open('model.pkl','wb'))\n",
        "\n",
        "elapsed_time = time.time() - start_time\n",
        "print(\"Total time : \",elapsed_time/60)"
      ]
    },
    {
      "cell_type": "code",
      "execution_count": null,
      "metadata": {
        "id": "D1L3w6cUZu8w",
        "colab": {
          "base_uri": "https://localhost:8080/"
        },
        "outputId": "6061f803-9bcc-46ef-c3c0-3a1e1ffd97ba"
      },
      "outputs": [
        {
          "output_type": "stream",
          "name": "stdout",
          "text": [
            "INFO:tensorflow:Assets written to: model_weights.pkl/assets\n"
          ]
        }
      ],
      "source": [
        "agent.save(name=\"model_weights.pkl\")"
      ]
    },
    {
      "cell_type": "code",
      "execution_count": null,
      "metadata": {
        "id": "T2IQqNM20-rj"
      },
      "outputs": [],
      "source": [
        "actions_space"
      ]
    },
    {
      "cell_type": "code",
      "execution_count": null,
      "metadata": {
        "id": "EGZ4wWwVZu8w"
      },
      "outputs": [],
      "source": [
        ""
      ]
    },
    {
      "cell_type": "markdown",
      "metadata": {
        "id": "4inTPkFlZu8w"
      },
      "source": [
        "### Tracking Convergence"
      ]
    },
    {
      "cell_type": "code",
      "execution_count": null,
      "metadata": {
        "id": "e-dV1FC1Zu8x",
        "colab": {
          "base_uri": "https://localhost:8080/"
        },
        "outputId": "eee97358-dac1-4e92-8dda-333341a46515"
      },
      "outputs": [
        {
          "output_type": "execute_result",
          "data": {
            "text/plain": [
              "[181.47379,\n",
              " 288.9204,\n",
              " 306.89923,\n",
              " 120.3202,\n",
              " 182.55125,\n",
              " 206.7985,\n",
              " 319.66168,\n",
              " 330.675,\n",
              " 737.01746,\n",
              " 332.70312,\n",
              " 386.4262,\n",
              " 411.55313,\n",
              " 429.28775,\n",
              " 340.75446,\n",
              " 409.7416,\n",
              " 657.69946,\n",
              " 379.85208,\n",
              " 451.21332,\n",
              " 516.77075,\n",
              " 449.22278,\n",
              " 434.8523,\n",
              " 419.51376,\n",
              " 383.01535,\n",
              " 542.71356,\n",
              " 471.9795,\n",
              " 555.6648,\n",
              " 579.9167,\n",
              " 620.5841,\n",
              " 534.46466,\n",
              " 1239.7854,\n",
              " 732.4925,\n",
              " 657.93787,\n",
              " 457.0718,\n",
              " 642.78174,\n",
              " 504.06818,\n",
              " 629.82153,\n",
              " 587.6653,\n",
              " 533.2592,\n",
              " 633.9688,\n",
              " 439.07343,\n",
              " 458.80148,\n",
              " 527.88904,\n",
              " 546.9026,\n",
              " 545.7842,\n",
              " 589.0229,\n",
              " 479.47458,\n",
              " 604.5824,\n",
              " 599.4496,\n",
              " 925.5355,\n",
              " 464.84598,\n",
              " 525.0116,\n",
              " 697.2842,\n",
              " 700.41925,\n",
              " 828.2799,\n",
              " 549.9655,\n",
              " 693.4649,\n",
              " 721.292,\n",
              " 624.87946,\n",
              " 1347.1947,\n",
              " 747.4142,\n",
              " 552.5633,\n",
              " 561.1914,\n",
              " 645.8668,\n",
              " 532.10333,\n",
              " 517.75525,\n",
              " 567.4608,\n",
              " 568.1787,\n",
              " 591.41547,\n",
              " 538.5973,\n",
              " 552.9868,\n",
              " 543.41376,\n",
              " 580.14984,\n",
              " 527.9645,\n",
              " 609.9209,\n",
              " 691.30505,\n",
              " 709.1025,\n",
              " 1228.7775,\n",
              " 422.83978,\n",
              " 512.88885,\n",
              " 842.92065,\n",
              " 1052.217,\n",
              " 830.9939,\n",
              " 817.01544,\n",
              " 759.9352,\n",
              " 540.91125,\n",
              " 400.7992,\n",
              " 429.91202,\n",
              " 435.91226,\n",
              " 530.17163,\n",
              " 522.0857,\n",
              " 598.49976,\n",
              " 551.61566,\n",
              " 644.75885,\n",
              " 509.9482,\n",
              " 443.29797,\n",
              " 534.3081,\n",
              " 607.10223,\n",
              " 654.3641,\n",
              " 527.0723,\n",
              " 560.60876]"
            ]
          },
          "metadata": {},
          "execution_count": 13
        }
      ],
      "source": [
        "agent.states_tracked"
      ]
    },
    {
      "cell_type": "code",
      "execution_count": null,
      "metadata": {
        "id": "BAsb37WKZu8x",
        "colab": {
          "base_uri": "https://localhost:8080/",
          "height": 464
        },
        "outputId": "fbbdf6ca-8a02-4eef-c6e9-2ccdefdde6ad"
      },
      "outputs": [
        {
          "output_type": "display_data",
          "data": {
            "text/plain": [
              "<Figure size 1152x504 with 1 Axes>"
            ],
            "image/png": "[encoded data removed]"
          },
          "metadata": {
            "needs_background": "light"
          }
        }
      ],
      "source": [
        "plt.figure(0, figsize=(16,7))\n",
        "plt.title('Q_value for state [0,0,0]  action (0,2)')\n",
        "xaxis = np.asarray(range(0, len(agent.states_tracked)))\n",
        "plt.semilogy(xaxis,np.asarray(agent.states_tracked))\n",
        "plt.show()"
      ]
    },
    {
      "cell_type": "code",
      "execution_count": null,
      "metadata": {
        "id": "oBrY-ccSZu8x"
      },
      "outputs": [],
      "source": [
        "rewards_tracked = [rewards_per_episode[i] for i in range(len(rewards_per_episode)) if (i % 4 == 0)]\n"
      ]
    },
    {
      "cell_type": "code",
      "source": [
        "plt.figure(0, figsize=(16,7))\n",
        "plt.title('Rewards per episode')\n",
        "xaxis = np.asarray(range(0, len(rewards_tracked)))\n",
        "plt.plot(xaxis,np.asarray(rewards_tracked))\n",
        "plt.show()"
      ],
      "metadata": {
        "id": "zl0NyCj6tnet",
        "colab": {
          "base_uri": "https://localhost:8080/",
          "height": 302
        },
        "outputId": "77788b26-b0ca-4482-cb1d-f54ee2f6e316"
      },
      "execution_count": null,
      "outputs": [
        {
          "output_type": "display_data",
          "data": {
            "text/plain": [
              "<Figure size 1152x504 with 1 Axes>"
            ],
            "image/png": "[encoded data removed]"
          },
          "metadata": {
            "needs_background": "light"
          }
        }
      ]
    },
    {
      "cell_type": "markdown",
      "metadata": {
        "id": "5ROb5LZmZu8y"
      },
      "source": [
        "#### Epsilon-decay sample function"
      ]
    },
    {
      "cell_type": "markdown",
      "metadata": {
        "id": "JpNFCvUKZu8z"
      },
      "source": [
        "<div class=\"alert alert-block alert-info\">\n",
        "Try building a similar epsilon-decay function for your model.\n",
        "</div>"
      ]
    },
    {
      "cell_type": "code",
      "execution_count": null,
      "metadata": {
        "id": "cDQXrW73Zu8z"
      },
      "outputs": [],
      "source": [
        "time = np.arange(0,10000)\n",
        "epsilon = []\n",
        "for i in range(0,10000):\n",
        "    epsilon.append(0 + (1 - 0) * np.exp(-0.0009*i))"
      ]
    },
    {
      "cell_type": "code",
      "execution_count": null,
      "metadata": {
        "id": "L98D3kX9Zu8z",
        "colab": {
          "base_uri": "https://localhost:8080/",
          "height": 265
        },
        "outputId": "bb4da031-7dbe-4ee3-eaad-ea2b5a2a88e4"
      },
      "outputs": [
        {
          "output_type": "display_data",
          "data": {
            "text/plain": [
              "<Figure size 432x288 with 1 Axes>"
            ],
            "image/png": "[encoded data removed]"
          },
          "metadata": {
            "needs_background": "light"
          }
        }
      ],
      "source": [
        "plt.plot(time, epsilon)\n",
        "plt.show()"
      ]
    },
    {
      "cell_type": "code",
      "execution_count": null,
      "metadata": {
        "id": "xS5mEAAQZu80",
        "colab": {
          "base_uri": "https://localhost:8080/"
        },
        "outputId": "3b3d26e4-0c3b-49c5-f6d3-12075ea9b2bf"
      },
      "outputs": [
        {
          "output_type": "stream",
          "name": "stdout",
          "text": [
            "  adding: content/model_weights.pkl/ (stored 0%)\n",
            "  adding: content/model_weights.pkl/assets/ (stored 0%)\n",
            "  adding: content/model_weights.pkl/variables/ (stored 0%)\n",
            "  adding: content/model_weights.pkl/variables/variables.index (deflated 62%)\n",
            "  adding: content/model_weights.pkl/variables/variables.data-00000-of-00001 (deflated 33%)\n",
            "  adding: content/model_weights.pkl/keras_metadata.pb (deflated 87%)\n",
            "  adding: content/model_weights.pkl/saved_model.pb (deflated 88%)\n"
          ]
        }
      ],
      "source": [
        "!zip -r /content/model_weights.zip /content/model_weights.pkl"
      ]
    }
  ],
  "metadata": {
    "accelerator": "GPU",
    "colab": {
      "collapsed_sections": [],
      "name": "RL_CAB_PROFIT_OPTIMIZATION_DQN_Agent_Arch2.ipynb",
      "provenance": []
    },
    "kernelspec": {
      "display_name": "Python 3",
      "language": "python",
      "name": "python3"
    },
    "language_info": {
      "codemirror_mode": {
        "name": "ipython",
        "version": 3
      },
      "file_extension": ".py",
      "mimetype": "text/x-python",
      "name": "python",
      "nbconvert_exporter": "python",
      "pygments_lexer": "ipython3",
      "version": "3.6.5"
    }
  },
  "nbformat": 4,
  "nbformat_minor": 0
}